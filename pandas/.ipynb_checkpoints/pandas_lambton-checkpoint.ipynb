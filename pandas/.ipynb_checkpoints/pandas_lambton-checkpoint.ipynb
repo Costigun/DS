{
 "cells": [
  {
   "cell_type": "code",
   "execution_count": 1,
   "metadata": {},
   "outputs": [],
   "source": [
    "import numpy as np\n",
    "import pandas as pd"
   ]
  },
  {
   "cell_type": "code",
   "execution_count": 26,
   "metadata": {},
   "outputs": [],
   "source": [
    "df_2018 = pd.read_excel('документы приобретения товаров за 2018 год.xls')\n",
    "df_2019 = pd.read_excel('документ приобретения товаров за 2019 год.xls')\n",
    "df_2020 = pd.read_excel('документ приобретения товара за 2020 год.xls')"
   ]
  },
  {
   "cell_type": "code",
   "execution_count": 13,
   "metadata": {},
   "outputs": [
    {
     "data": {
      "text/html": [
       "<div>\n",
       "<style scoped>\n",
       "    .dataframe tbody tr th:only-of-type {\n",
       "        vertical-align: middle;\n",
       "    }\n",
       "\n",
       "    .dataframe tbody tr th {\n",
       "        vertical-align: top;\n",
       "    }\n",
       "\n",
       "    .dataframe thead th {\n",
       "        text-align: right;\n",
       "    }\n",
       "</style>\n",
       "<table border=\"1\" class=\"dataframe\">\n",
       "  <thead>\n",
       "    <tr style=\"text-align: right;\">\n",
       "      <th></th>\n",
       "      <th>Unnamed: 0</th>\n",
       "      <th>НУ</th>\n",
       "      <th>Дата</th>\n",
       "      <th>Номер</th>\n",
       "      <th>Вид операции</th>\n",
       "      <th>Склад</th>\n",
       "      <th>Контрагент</th>\n",
       "      <th>Договор</th>\n",
       "      <th>Сумма</th>\n",
       "      <th>Валюта</th>\n",
       "      <th>Ответственный</th>\n",
       "      <th>Автор</th>\n",
       "      <th>Комментарий</th>\n",
       "    </tr>\n",
       "  </thead>\n",
       "  <tbody>\n",
       "    <tr>\n",
       "      <th>0</th>\n",
       "      <td>NaN</td>\n",
       "      <td>Да</td>\n",
       "      <td>07.09.2018 8:00:00</td>\n",
       "      <td>100</td>\n",
       "      <td>Импорт</td>\n",
       "      <td>Основной склад</td>\n",
       "      <td>CHANGJIN</td>\n",
       "      <td>Основной договор</td>\n",
       "      <td>42210.00</td>\n",
       "      <td>USD</td>\n",
       "      <td>Главбух</td>\n",
       "      <td>Главбух</td>\n",
       "      <td>Азык 0002593</td>\n",
       "    </tr>\n",
       "    <tr>\n",
       "      <th>1</th>\n",
       "      <td>NaN</td>\n",
       "      <td>Да</td>\n",
       "      <td>07.09.2018 8:01:00</td>\n",
       "      <td>101</td>\n",
       "      <td>Импорт</td>\n",
       "      <td>Основной склад</td>\n",
       "      <td>CHANGJIN</td>\n",
       "      <td>Основной договор</td>\n",
       "      <td>50672.50</td>\n",
       "      <td>USD</td>\n",
       "      <td>Главбух</td>\n",
       "      <td>Главбух</td>\n",
       "      <td>Азык 0002631</td>\n",
       "    </tr>\n",
       "    <tr>\n",
       "      <th>2</th>\n",
       "      <td>NaN</td>\n",
       "      <td>Да</td>\n",
       "      <td>07.09.2018 8:02:00</td>\n",
       "      <td>108</td>\n",
       "      <td>Импорт</td>\n",
       "      <td>Основной склад</td>\n",
       "      <td>CHANGJIN</td>\n",
       "      <td>Основной договор</td>\n",
       "      <td>48561.80</td>\n",
       "      <td>USD</td>\n",
       "      <td>Главбух</td>\n",
       "      <td>Главбух</td>\n",
       "      <td>0002735 Нуржигит</td>\n",
       "    </tr>\n",
       "    <tr>\n",
       "      <th>3</th>\n",
       "      <td>NaN</td>\n",
       "      <td>Да</td>\n",
       "      <td>08.09.2018 8:01:00</td>\n",
       "      <td>102</td>\n",
       "      <td>Импорт</td>\n",
       "      <td>Основной склад</td>\n",
       "      <td>CHANGJIN</td>\n",
       "      <td>Основной договор</td>\n",
       "      <td>46137.18</td>\n",
       "      <td>USD</td>\n",
       "      <td>Главбух</td>\n",
       "      <td>Главбух</td>\n",
       "      <td>ГТД 0003556 Алмаз б/и</td>\n",
       "    </tr>\n",
       "    <tr>\n",
       "      <th>4</th>\n",
       "      <td>NaN</td>\n",
       "      <td>Да</td>\n",
       "      <td>16.09.2018 8:00:00</td>\n",
       "      <td>34</td>\n",
       "      <td>Импорт</td>\n",
       "      <td>Основной склад</td>\n",
       "      <td>KASHI HONGRUI CO LTD</td>\n",
       "      <td>Основной договор</td>\n",
       "      <td>54591.60</td>\n",
       "      <td>USD</td>\n",
       "      <td>Главбух</td>\n",
       "      <td>Главбух</td>\n",
       "      <td>Азык 0004226</td>\n",
       "    </tr>\n",
       "  </tbody>\n",
       "</table>\n",
       "</div>"
      ],
      "text/plain": [
       "   Unnamed: 0   НУ                Дата  Номер Вид операции           Склад  \\\n",
       "0         NaN  Да   07.09.2018 8:00:00    100       Импорт  Основной склад   \n",
       "1         NaN  Да   07.09.2018 8:01:00    101       Импорт  Основной склад   \n",
       "2         NaN  Да   07.09.2018 8:02:00    108       Импорт  Основной склад   \n",
       "3         NaN  Да   08.09.2018 8:01:00    102       Импорт  Основной склад   \n",
       "4         NaN  Да   16.09.2018 8:00:00     34       Импорт  Основной склад   \n",
       "\n",
       "             Контрагент           Договор     Сумма Валюта Ответственный  \\\n",
       "0              CHANGJIN  Основной договор  42210.00    USD       Главбух   \n",
       "1              CHANGJIN  Основной договор  50672.50    USD       Главбух   \n",
       "2              CHANGJIN  Основной договор  48561.80    USD       Главбух   \n",
       "3              CHANGJIN  Основной договор  46137.18    USD       Главбух   \n",
       "4  KASHI HONGRUI CO LTD  Основной договор  54591.60    USD       Главбух   \n",
       "\n",
       "     Автор            Комментарий  \n",
       "0  Главбух          Азык 0002593   \n",
       "1  Главбух           Азык 0002631  \n",
       "2  Главбух      0002735 Нуржигит   \n",
       "3  Главбух  ГТД 0003556 Алмаз б/и  \n",
       "4  Главбух           Азык 0004226  "
      ]
     },
     "execution_count": 13,
     "metadata": {},
     "output_type": "execute_result"
    }
   ],
   "source": [
    "df_2018.head()"
   ]
  },
  {
   "cell_type": "code",
   "execution_count": 15,
   "metadata": {},
   "outputs": [
    {
     "name": "stdout",
     "output_type": "stream",
     "text": [
      "<class 'pandas.core.frame.DataFrame'>\n",
      "RangeIndex: 234 entries, 0 to 233\n",
      "Data columns (total 13 columns):\n",
      " #   Column         Non-Null Count  Dtype  \n",
      "---  ------         --------------  -----  \n",
      " 0   Unnamed: 0     0 non-null      float64\n",
      " 1   НУ             234 non-null    object \n",
      " 2   Дата           234 non-null    object \n",
      " 3   Номер          234 non-null    int64  \n",
      " 4   Вид операции   234 non-null    object \n",
      " 5   Склад          234 non-null    object \n",
      " 6   Контрагент     234 non-null    object \n",
      " 7   Договор        234 non-null    object \n",
      " 8   Сумма          234 non-null    float64\n",
      " 9   Валюта         234 non-null    object \n",
      " 10  Ответственный  234 non-null    object \n",
      " 11  Автор          234 non-null    object \n",
      " 12  Комментарий    234 non-null    object \n",
      "dtypes: float64(2), int64(1), object(10)\n",
      "memory usage: 23.9+ KB\n"
     ]
    }
   ],
   "source": [
    "df_2018.info()"
   ]
  },
  {
   "cell_type": "code",
   "execution_count": 25,
   "metadata": {},
   "outputs": [
    {
     "name": "stdout",
     "output_type": "stream",
     "text": [
      "<class 'pandas.core.frame.DataFrame'>\n",
      "RangeIndex: 457 entries, 0 to 456\n",
      "Data columns (total 13 columns):\n",
      " #   Column         Non-Null Count  Dtype  \n",
      "---  ------         --------------  -----  \n",
      " 0   Unnamed: 0     0 non-null      float64\n",
      " 1   НУ             457 non-null    object \n",
      " 2   Дата           457 non-null    object \n",
      " 3   Номер          457 non-null    int64  \n",
      " 4   Вид операции   457 non-null    object \n",
      " 5   Склад          457 non-null    object \n",
      " 6   Контрагент     457 non-null    object \n",
      " 7   Договор        457 non-null    object \n",
      " 8   Сумма          457 non-null    float64\n",
      " 9   Валюта         457 non-null    object \n",
      " 10  Ответственный  457 non-null    object \n",
      " 11  Автор          457 non-null    object \n",
      " 12  Комментарий    455 non-null    object \n",
      "dtypes: float64(2), int64(1), object(10)\n",
      "memory usage: 46.5+ KB\n"
     ]
    }
   ],
   "source": [
    "df_2019.info()"
   ]
  },
  {
   "cell_type": "code",
   "execution_count": 27,
   "metadata": {},
   "outputs": [
    {
     "name": "stdout",
     "output_type": "stream",
     "text": [
      "<class 'pandas.core.frame.DataFrame'>\n",
      "RangeIndex: 457 entries, 0 to 456\n",
      "Data columns (total 13 columns):\n",
      " #   Column         Non-Null Count  Dtype  \n",
      "---  ------         --------------  -----  \n",
      " 0   Unnamed: 0     0 non-null      float64\n",
      " 1   НУ             457 non-null    object \n",
      " 2   Дата           457 non-null    object \n",
      " 3   Номер          457 non-null    int64  \n",
      " 4   Вид операции   457 non-null    object \n",
      " 5   Склад          457 non-null    object \n",
      " 6   Контрагент     457 non-null    object \n",
      " 7   Договор        457 non-null    object \n",
      " 8   Сумма          457 non-null    float64\n",
      " 9   Валюта         457 non-null    object \n",
      " 10  Ответственный  457 non-null    object \n",
      " 11  Автор          457 non-null    object \n",
      " 12  Комментарий    455 non-null    object \n",
      "dtypes: float64(2), int64(1), object(10)\n",
      "memory usage: 46.5+ KB\n"
     ]
    }
   ],
   "source": [
    "df_2020.info()"
   ]
  },
  {
   "cell_type": "code",
   "execution_count": 28,
   "metadata": {},
   "outputs": [
    {
     "name": "stdout",
     "output_type": "stream",
     "text": [
      "Сумма операцийй за 2018 год = 12365714.919999998 \n",
      " Сумма операцийй за 2019 год = 2367773.7 \n",
      " Сумма операцийй за 2020 год = 13203342.2\n"
     ]
    }
   ],
   "source": [
    "sum_2018 = df_2018['Сумма'].sum()\n",
    "sum_2019 = df_2019['Сумма'].sum()\n",
    "sum_2020 = df_2020['Сумма'].sum()\n",
    "print(\"Сумма операцийй за 2018 год = {} \\n Сумма операцийй за 2019 год = {} \\n Сумма операцийй за 2020 год = {}\".format(sum_2018,sum_2019,sum_2020))"
   ]
  },
  {
   "cell_type": "code",
   "execution_count": 22,
   "metadata": {},
   "outputs": [
    {
     "data": {
      "text/html": [
       "<div>\n",
       "<style scoped>\n",
       "    .dataframe tbody tr th:only-of-type {\n",
       "        vertical-align: middle;\n",
       "    }\n",
       "\n",
       "    .dataframe tbody tr th {\n",
       "        vertical-align: top;\n",
       "    }\n",
       "\n",
       "    .dataframe thead th {\n",
       "        text-align: right;\n",
       "    }\n",
       "</style>\n",
       "<table border=\"1\" class=\"dataframe\">\n",
       "  <thead>\n",
       "    <tr style=\"text-align: right;\">\n",
       "      <th></th>\n",
       "      <th>Unnamed: 0</th>\n",
       "      <th>Номер</th>\n",
       "      <th>Сумма</th>\n",
       "    </tr>\n",
       "    <tr>\n",
       "      <th>Контрагент</th>\n",
       "      <th></th>\n",
       "      <th></th>\n",
       "      <th></th>\n",
       "    </tr>\n",
       "  </thead>\n",
       "  <tbody>\n",
       "    <tr>\n",
       "      <th>CHANGJIN</th>\n",
       "      <td>0.0</td>\n",
       "      <td>20975</td>\n",
       "      <td>6166063.53</td>\n",
       "    </tr>\n",
       "    <tr>\n",
       "      <th>KASHI HONGRUI CO LTD</th>\n",
       "      <td>0.0</td>\n",
       "      <td>7777</td>\n",
       "      <td>6158538.03</td>\n",
       "    </tr>\n",
       "    <tr>\n",
       "      <th>REYTEKS</th>\n",
       "      <td>0.0</td>\n",
       "      <td>204</td>\n",
       "      <td>20504.67</td>\n",
       "    </tr>\n",
       "    <tr>\n",
       "      <th>TORES TEKSTIL</th>\n",
       "      <td>0.0</td>\n",
       "      <td>205</td>\n",
       "      <td>20608.69</td>\n",
       "    </tr>\n",
       "  </tbody>\n",
       "</table>\n",
       "</div>"
      ],
      "text/plain": [
       "                      Unnamed: 0  Номер       Сумма\n",
       "Контрагент                                         \n",
       "CHANGJIN                     0.0  20975  6166063.53\n",
       "KASHI HONGRUI CO LTD         0.0   7777  6158538.03\n",
       "REYTEKS                      0.0    204    20504.67\n",
       "TORES TEKSTIL                0.0    205    20608.69"
      ]
     },
     "execution_count": 22,
     "metadata": {},
     "output_type": "execute_result"
    }
   ],
   "source": [
    "df_2018.groupby('Контрагент').sum()"
   ]
  },
  {
   "cell_type": "code",
   "execution_count": 29,
   "metadata": {},
   "outputs": [
    {
     "data": {
      "text/html": [
       "<div>\n",
       "<style scoped>\n",
       "    .dataframe tbody tr th:only-of-type {\n",
       "        vertical-align: middle;\n",
       "    }\n",
       "\n",
       "    .dataframe tbody tr th {\n",
       "        vertical-align: top;\n",
       "    }\n",
       "\n",
       "    .dataframe thead th {\n",
       "        text-align: right;\n",
       "    }\n",
       "</style>\n",
       "<table border=\"1\" class=\"dataframe\">\n",
       "  <thead>\n",
       "    <tr style=\"text-align: right;\">\n",
       "      <th></th>\n",
       "      <th>Unnamed: 0</th>\n",
       "      <th>Номер</th>\n",
       "      <th>Сумма</th>\n",
       "    </tr>\n",
       "    <tr>\n",
       "      <th>Контрагент</th>\n",
       "      <th></th>\n",
       "      <th></th>\n",
       "      <th></th>\n",
       "    </tr>\n",
       "  </thead>\n",
       "  <tbody>\n",
       "    <tr>\n",
       "      <th>CARGO AIR CHARTERING F Z E OF X1 05</th>\n",
       "      <td>0.0</td>\n",
       "      <td>432</td>\n",
       "      <td>1002279.0</td>\n",
       "    </tr>\n",
       "    <tr>\n",
       "      <th>CHANGJIN</th>\n",
       "      <td>0.0</td>\n",
       "      <td>6</td>\n",
       "      <td>313577.7</td>\n",
       "    </tr>\n",
       "    <tr>\n",
       "      <th>INTERNATIONAL FORWARDING AGENCY \"KASHI HONGRUI CO LTD\"</th>\n",
       "      <td>0.0</td>\n",
       "      <td>132</td>\n",
       "      <td>164501.0</td>\n",
       "    </tr>\n",
       "    <tr>\n",
       "      <th>KASHI HONGRUI CO LTD</th>\n",
       "      <td>0.0</td>\n",
       "      <td>468</td>\n",
       "      <td>887416.0</td>\n",
       "    </tr>\n",
       "  </tbody>\n",
       "</table>\n",
       "</div>"
      ],
      "text/plain": [
       "                                                    Unnamed: 0  Номер  \\\n",
       "Контрагент                                                              \n",
       "CARGO AIR CHARTERING F Z E OF X1 05                        0.0    432   \n",
       "CHANGJIN                                                   0.0      6   \n",
       "INTERNATIONAL FORWARDING AGENCY \"KASHI HONGRUI ...         0.0    132   \n",
       "KASHI HONGRUI CO LTD                                       0.0    468   \n",
       "\n",
       "                                                        Сумма  \n",
       "Контрагент                                                     \n",
       "CARGO AIR CHARTERING F Z E OF X1 05                 1002279.0  \n",
       "CHANGJIN                                             313577.7  \n",
       "INTERNATIONAL FORWARDING AGENCY \"KASHI HONGRUI ...   164501.0  \n",
       "KASHI HONGRUI CO LTD                                 887416.0  "
      ]
     },
     "execution_count": 29,
     "metadata": {},
     "output_type": "execute_result"
    }
   ],
   "source": [
    "df_2019.groupby('Контрагент').sum()"
   ]
  },
  {
   "cell_type": "code",
   "execution_count": null,
   "metadata": {},
   "outputs": [],
   "source": []
  }
 ],
 "metadata": {
  "kernelspec": {
   "display_name": "Python 3",
   "language": "python",
   "name": "python3"
  },
  "language_info": {
   "codemirror_mode": {
    "name": "ipython",
    "version": 3
   },
   "file_extension": ".py",
   "mimetype": "text/x-python",
   "name": "python",
   "nbconvert_exporter": "python",
   "pygments_lexer": "ipython3",
   "version": "3.8.3"
  }
 },
 "nbformat": 4,
 "nbformat_minor": 4
}
