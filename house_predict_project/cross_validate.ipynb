{
 "cells": [
  {
   "cell_type": "code",
   "execution_count": 1,
   "metadata": {},
   "outputs": [],
   "source": [
    "import pandas as pd\n",
    "import numpy as np\n",
    "import matplotlib.pyplot as plt\n",
    "import seaborn as sns"
   ]
  },
  {
   "cell_type": "code",
   "execution_count": 2,
   "metadata": {},
   "outputs": [],
   "source": [
    "df = pd.read_csv('../Exercises_HW/DATA/Advertising.csv')"
   ]
  },
  {
   "cell_type": "code",
   "execution_count": 3,
   "metadata": {},
   "outputs": [
    {
     "data": {
      "text/html": [
       "<div>\n",
       "<style scoped>\n",
       "    .dataframe tbody tr th:only-of-type {\n",
       "        vertical-align: middle;\n",
       "    }\n",
       "\n",
       "    .dataframe tbody tr th {\n",
       "        vertical-align: top;\n",
       "    }\n",
       "\n",
       "    .dataframe thead th {\n",
       "        text-align: right;\n",
       "    }\n",
       "</style>\n",
       "<table border=\"1\" class=\"dataframe\">\n",
       "  <thead>\n",
       "    <tr style=\"text-align: right;\">\n",
       "      <th></th>\n",
       "      <th>TV</th>\n",
       "      <th>radio</th>\n",
       "      <th>newspaper</th>\n",
       "      <th>sales</th>\n",
       "    </tr>\n",
       "  </thead>\n",
       "  <tbody>\n",
       "    <tr>\n",
       "      <th>0</th>\n",
       "      <td>230.1</td>\n",
       "      <td>37.8</td>\n",
       "      <td>69.2</td>\n",
       "      <td>22.1</td>\n",
       "    </tr>\n",
       "    <tr>\n",
       "      <th>1</th>\n",
       "      <td>44.5</td>\n",
       "      <td>39.3</td>\n",
       "      <td>45.1</td>\n",
       "      <td>10.4</td>\n",
       "    </tr>\n",
       "    <tr>\n",
       "      <th>2</th>\n",
       "      <td>17.2</td>\n",
       "      <td>45.9</td>\n",
       "      <td>69.3</td>\n",
       "      <td>9.3</td>\n",
       "    </tr>\n",
       "    <tr>\n",
       "      <th>3</th>\n",
       "      <td>151.5</td>\n",
       "      <td>41.3</td>\n",
       "      <td>58.5</td>\n",
       "      <td>18.5</td>\n",
       "    </tr>\n",
       "    <tr>\n",
       "      <th>4</th>\n",
       "      <td>180.8</td>\n",
       "      <td>10.8</td>\n",
       "      <td>58.4</td>\n",
       "      <td>12.9</td>\n",
       "    </tr>\n",
       "  </tbody>\n",
       "</table>\n",
       "</div>"
      ],
      "text/plain": [
       "      TV  radio  newspaper  sales\n",
       "0  230.1   37.8       69.2   22.1\n",
       "1   44.5   39.3       45.1   10.4\n",
       "2   17.2   45.9       69.3    9.3\n",
       "3  151.5   41.3       58.5   18.5\n",
       "4  180.8   10.8       58.4   12.9"
      ]
     },
     "execution_count": 3,
     "metadata": {},
     "output_type": "execute_result"
    }
   ],
   "source": [
    "df.head()"
   ]
  },
  {
   "cell_type": "code",
   "execution_count": 4,
   "metadata": {},
   "outputs": [],
   "source": [
    "X = df.drop('sales',axis=1)"
   ]
  },
  {
   "cell_type": "code",
   "execution_count": 5,
   "metadata": {},
   "outputs": [],
   "source": [
    "y = df['sales']"
   ]
  },
  {
   "cell_type": "code",
   "execution_count": 6,
   "metadata": {},
   "outputs": [],
   "source": [
    "from sklearn.model_selection import train_test_split"
   ]
  },
  {
   "cell_type": "code",
   "execution_count": 7,
   "metadata": {},
   "outputs": [],
   "source": [
    "X_train,X_test,y_train,y_test = train_test_split(X,y,test_size=0.3,random_state=101)"
   ]
  },
  {
   "cell_type": "code",
   "execution_count": 8,
   "metadata": {},
   "outputs": [],
   "source": [
    "from sklearn.preprocessing import StandardScaler"
   ]
  },
  {
   "cell_type": "code",
   "execution_count": 9,
   "metadata": {},
   "outputs": [],
   "source": [
    "scaler = StandardScaler()"
   ]
  },
  {
   "cell_type": "code",
   "execution_count": 10,
   "metadata": {},
   "outputs": [
    {
     "data": {
      "text/plain": [
       "StandardScaler()"
      ]
     },
     "execution_count": 10,
     "metadata": {},
     "output_type": "execute_result"
    }
   ],
   "source": [
    "scaler.fit(X_train)"
   ]
  },
  {
   "cell_type": "code",
   "execution_count": 11,
   "metadata": {},
   "outputs": [],
   "source": [
    "X_train = scaler.transform(X_train)"
   ]
  },
  {
   "cell_type": "code",
   "execution_count": 12,
   "metadata": {},
   "outputs": [
    {
     "data": {
      "text/plain": [
       "array([[ 4.93001715e-01, -3.39942376e-01,  1.61586707e+00],\n",
       "       [ 1.61337153e+00,  1.32852213e+00,  1.90079242e+00],\n",
       "       [-8.48118933e-01, -1.58789957e+00, -1.02319564e+00],\n",
       "       [ 3.67197477e-01,  1.54555816e+00,  1.28890355e+00],\n",
       "       [ 8.39556785e-01, -1.29625740e+00,  8.73192784e-01],\n",
       "       [ 1.17780403e+00,  8.87667686e-01,  1.92414696e+00],\n",
       "       [ 4.28912763e-01, -1.56818223e-01, -1.00918292e+00],\n",
       "       [-8.71855582e-01,  1.58625242e+00,  1.58543944e-01],\n",
       "       [-3.08110177e-01,  9.14797190e-01,  2.24643957e+00],\n",
       "       [-2.44021225e-01,  1.31495738e+00, -1.03026873e-01],\n",
       "       [ 9.83163509e-01, -1.35729878e+00,  2.50801039e+00],\n",
       "       [-1.06056194e+00, -7.33320185e-01, -5.98143063e-01],\n",
       "       [ 1.59438221e+00, -6.45149297e-01, -1.28009555e+00],\n",
       "       [-8.93218565e-01, -1.53364056e+00, -7.61624823e-01],\n",
       "       [-6.42796922e-01, -1.07243899e+00, -1.11661379e+00],\n",
       "       [ 7.68346839e-01,  1.24035124e+00,  3.96760224e-01],\n",
       "       [-7.82843149e-01,  8.40191053e-01,  8.49838247e-01],\n",
       "       [ 1.08641793e+00,  1.73546469e+00,  6.16292874e-01],\n",
       "       [-1.71331978e+00,  3.17948099e-01,  4.80836558e-01],\n",
       "       [ 9.54679531e-01, -1.00461523e+00, -1.04655018e+00],\n",
       "       [ 1.53148009e+00, -6.45149297e-01,  2.75316631e-01],\n",
       "       [-2.36900231e-01, -3.39942376e-01,  1.63214852e-01],\n",
       "       [-1.13295872e+00, -1.20130413e+00, -6.56596133e-02],\n",
       "       [ 6.33047942e-01,  1.47095202e+00, -5.37421266e-01],\n",
       "       [ 1.79677953e-01,  1.26069837e+00, -1.28476646e+00],\n",
       "       [ 1.04962613e+00, -4.55242768e-01, -3.83281320e-01],\n",
       "       [-1.59582336e+00, -1.30982215e+00,  2.30876283e-02],\n",
       "       [ 6.54410925e-01, -1.23521601e+00, -5.46763081e-01],\n",
       "       [ 1.02707631e+00,  7.38455413e-01, -1.20536103e+00],\n",
       "       [ 3.00734861e-01, -9.57138594e-01, -1.15398105e+00],\n",
       "       [-1.46052447e+00, -1.48616392e+00,  8.84803326e-02],\n",
       "       [ 1.01758165e+00, -1.24199839e+00, -3.55255875e-01],\n",
       "       [-1.22671848e+00,  1.59981717e+00, -1.05589199e+00],\n",
       "       [-9.62054846e-01, -5.02719400e-01,  4.52811114e-01],\n",
       "       [ 5.45222342e-01, -1.35051640e+00, -1.17733559e+00],\n",
       "       [-1.22964317e-01,  2.29777211e-01,  7.05040116e-01],\n",
       "       [-7.35369852e-01, -9.16444338e-01,  2.14594834e-01],\n",
       "       [-3.69825463e-01,  3.45077603e-01, -7.89650268e-01],\n",
       "       [-1.83492771e-01, -2.85683367e-01, -6.77548489e-01],\n",
       "       [-9.06273722e-01, -2.11077231e-01,  6.51257953e-02],\n",
       "       [-1.46700966e-01, -6.04455041e-01, -9.76486566e-01],\n",
       "       [ 1.63829501e+00,  1.28104550e+00,  9.38585489e-01],\n",
       "       [-4.23232922e-01, -1.06565661e+00, -3.73939505e-01],\n",
       "       [-1.36201738e+00,  1.03009758e+00,  1.61119616e+00],\n",
       "       [ 9.09579898e-01, -4.41678016e-01, -2.29141374e-01],\n",
       "       [ 1.01758165e+00,  2.77253843e-01, -9.39119307e-01],\n",
       "       [-1.64448349e+00, -1.56077006e+00, -2.57166819e-01],\n",
       "       [ 5.45222342e-01, -7.60595026e-03, -7.89650268e-01],\n",
       "       [ 1.71781278e+00,  8.74102934e-01,  3.26002649e+00],\n",
       "       [ 2.20030255e-01, -1.05887423e+00,  1.91240296e-01],\n",
       "       [-7.51985506e-01,  1.41606322e-01,  1.97552694e+00],\n",
       "       [-1.11752989e+00,  6.36719773e-01, -3.55255875e-01],\n",
       "       [-6.08378782e-01, -9.36791466e-01, -1.28476646e+00],\n",
       "       [ 1.14813322e+00,  4.60377996e-01, -5.04724914e-01],\n",
       "       [ 4.68078234e-01,  3.58642355e-01, -6.02813970e-01],\n",
       "       [ 7.73094169e-01,  1.38956351e+00, -1.82432300e-01],\n",
       "       [ 6.22366450e-01,  6.43502149e-01,  6.95698301e-01],\n",
       "       [ 1.34752107e+00, -1.39121066e+00,  5.55571078e-01],\n",
       "       [ 7.33928698e-01,  1.32852213e+00,  1.25847592e-01],\n",
       "       [ 7.93270320e-01, -1.22165126e+00, -1.73090485e-01],\n",
       "       [-1.90740927e-03,  1.21322174e+00,  1.27956173e+00],\n",
       "       [ 2.47327401e-01, -3.60289504e-01, -1.89505388e-02],\n",
       "       [ 1.65016334e+00, -1.30982215e+00, -1.05589199e+00],\n",
       "       [-5.25300512e-01, -6.38366921e-01, -9.43790214e-01],\n",
       "       [ 6.87642234e-01, -1.90730103e-01, -9.53132029e-01],\n",
       "       [ 3.94494623e-01,  1.38956351e+00, -1.37351370e+00],\n",
       "       [-3.38967820e-01,  7.58802541e-01, -8.73726602e-01],\n",
       "       [ 1.56589823e+00,  1.26069837e+00,  1.63922161e+00],\n",
       "       [ 7.83775660e-01,  6.84196405e-01,  1.30291627e+00],\n",
       "       [ 7.01884223e-01,  1.77615895e+00,  3.08012983e-01],\n",
       "       [-1.79165072e+00,  1.09792134e+00, -1.04655018e+00],\n",
       "       [ 1.04725246e+00,  1.22678649e+00, -5.88801248e-01],\n",
       "       [-1.58751554e+00,  9.62273822e-01, -4.44003117e-01],\n",
       "       [-1.03974998e-01,  3.99336612e-01, -8.64384787e-01],\n",
       "       [ 8.58546104e-01, -1.42512254e+00, -7.24257564e-01],\n",
       "       [-8.94405398e-01,  2.77253843e-01, -7.05573934e-01],\n",
       "       [ 1.40512483e-01,  9.08014814e-01, -1.10727197e+00],\n",
       "       [ 7.92083487e-01,  2.90818595e-01,  1.04134545e+00],\n",
       "       [-3.63891301e-01, -1.01817998e+00,  8.21812802e-01],\n",
       "       [-1.01546231e+00, -1.19452176e+00, -3.22559523e-01],\n",
       "       [ 1.67627365e+00,  3.31512851e-01,  5.64912893e-01],\n",
       "       [ 1.52380807e-01, -1.70382975e-01,  7.61091005e-01],\n",
       "       [ 9.23821887e-01,  6.02807892e-01,  2.01289420e+00],\n",
       "       [ 3.94494623e-01, -1.63600599e-01, -4.25319487e-01],\n",
       "       [ 1.53978792e+00,  1.09792134e+00,  1.15344723e+00],\n",
       "       [ 1.21222217e+00, -1.43253471e-01, -5.16468910e-02],\n",
       "       [-1.50325044e+00, -8.41838202e-01, -6.56596133e-02],\n",
       "       [-1.47887798e-01, -6.18019793e-01, -2.57166819e-01],\n",
       "       [ 9.30942882e-01,  9.75838574e-01,  1.77934883e+00],\n",
       "       [ 1.98667272e-01, -1.10635087e+00, -8.55042972e-01],\n",
       "       [-5.58531820e-01, -1.20130413e+00,  1.53873037e-01],\n",
       "       [-6.85522890e-01,  1.36243401e+00,  9.05889136e-01],\n",
       "       [-4.96816533e-01, -6.18019793e-01,  2.77585357e-02],\n",
       "       [ 1.04962613e+00, -1.09278612e+00, -1.04655018e+00],\n",
       "       [-2.64197377e-01, -1.20130413e+00,  9.07490590e-03],\n",
       "       [-1.28843377e+00,  2.22994835e-01,  1.86569389e-01],\n",
       "       [ 4.30099596e-01, -4.21330888e-01, -6.16826692e-01],\n",
       "       [ 1.57420606e+00, -8.68967706e-01, -1.15398105e+00],\n",
       "       [-3.73385960e-01, -2.58553863e-01, -9.11093862e-01],\n",
       "       [-1.57802088e+00, -7.67232066e-01, -3.59926783e-01],\n",
       "       [ 1.15288055e+00,  2.50124339e-01, -3.83281320e-01],\n",
       "       [-1.95361096e-01,  1.24035124e+00,  6.91027394e-01],\n",
       "       [ 1.04013147e+00, -5.36631281e-01, -1.77761392e-01],\n",
       "       [-1.69789095e+00, -1.44546967e+00, -1.40621005e+00],\n",
       "       [-1.63316620e-01,  1.55912291e+00,  1.30291627e+00],\n",
       "       [ 8.14633304e-01,  1.73546469e+00, -1.30345009e+00],\n",
       "       [-2.32703930e-02,  8.26626301e-01, -1.17266468e+00],\n",
       "       [-7.27062025e-01, -1.56755244e+00, -3.69268598e-01],\n",
       "       [-1.47357962e+00, -1.47938155e+00, -4.86041284e-01],\n",
       "       [-1.28962060e+00,  1.68735827e-01, -4.95383099e-01],\n",
       "       [-1.70738561e+00,  1.05044471e+00,  9.10560044e-01],\n",
       "       [-5.17543714e-02,  3.30883059e-02, -5.60775803e-01],\n",
       "       [-1.48188745e+00,  6.50284525e-01, -5.51433988e-01],\n",
       "       [-1.50206360e+00,  1.55171074e-01,  5.69583800e-01],\n",
       "       [ 4.36033758e-01, -3.60289504e-01, -2.57166819e-01],\n",
       "       [ 7.00697390e-01,  4.12901364e-01, -1.01852473e+00],\n",
       "       [ 1.48400680e+00, -1.43190492e+00, -3.45914060e-01],\n",
       "       [-2.20835606e-02, -1.49972868e+00, -3.17888616e-01],\n",
       "       [-9.08647387e-01,  7.85932045e-01,  1.00864910e+00],\n",
       "       [-1.49612944e+00,  1.05722709e+00, -1.01852473e+00],\n",
       "       [ 1.06861544e+00,  9.89403326e-01, -3.69268598e-01],\n",
       "       [-9.88165160e-01,  1.43025777e+00,  2.09923926e-01],\n",
       "       [-1.00596765e+00, -7.94361570e-01,  2.65974816e-01],\n",
       "       [-9.03900057e-01, -8.55402954e-01, -1.17266468e+00],\n",
       "       [-9.28823538e-01, -4.34895640e-01, -8.50372065e-01],\n",
       "       [-1.69670412e+00,  1.72868231e+00,  2.05026146e+00],\n",
       "       [ 8.79909087e-01, -1.03174473e+00,  1.18614358e+00],\n",
       "       [-1.16500319e+00, -1.45225204e+00, -4.53344932e-01],\n",
       "       [ 7.56478515e-01,  1.27411778e-02,  1.23752357e+00],\n",
       "       [-1.34658855e+00, -1.33695165e+00, -8.08333898e-01],\n",
       "       [-1.70026462e+00,  2.56906715e-01, -1.35483007e+00],\n",
       "       [ 6.03377131e-01, -7.54297106e-02,  2.30876283e-02],\n",
       "       [ 1.44840182e+00,  3.72207107e-01,  1.33561262e+00],\n",
       "       [-1.59938386e+00,  1.37599876e+00,  2.72287213e+00],\n",
       "       [-4.86135041e-01,  1.16574510e+00,  1.49909438e+00],\n",
       "       [-5.81081636e-01,  4.19683740e-01, -1.06056290e+00],\n",
       "       [ 5.63024828e-01,  4.87507500e-01,  3.54722057e-01],\n",
       "       [ 1.04606563e+00, -1.30982215e+00,  2.70645723e-01],\n",
       "       [ 7.48170688e-01,  3.98706819e-02, -1.26608283e+00],\n",
       "       [ 1.38138818e-01,  5.55331260e-01,  1.01799092e+00]])"
      ]
     },
     "execution_count": 12,
     "metadata": {},
     "output_type": "execute_result"
    }
   ],
   "source": [
    "X_train"
   ]
  },
  {
   "cell_type": "code",
   "execution_count": 13,
   "metadata": {},
   "outputs": [],
   "source": [
    "X_test = scaler.transform(X_test)"
   ]
  },
  {
   "cell_type": "code",
   "execution_count": 14,
   "metadata": {},
   "outputs": [],
   "source": [
    "from sklearn.linear_model import Ridge"
   ]
  },
  {
   "cell_type": "code",
   "execution_count": 15,
   "metadata": {},
   "outputs": [],
   "source": [
    "model = Ridge(alpha=100)"
   ]
  },
  {
   "cell_type": "code",
   "execution_count": 16,
   "metadata": {},
   "outputs": [],
   "source": [
    "from sklearn.model_selection import cross_val_score"
   ]
  },
  {
   "cell_type": "code",
   "execution_count": 17,
   "metadata": {},
   "outputs": [],
   "source": [
    "scores = cross_val_score(model,X_train,y_train,scoring='neg_mean_squared_error',cv=5)"
   ]
  },
  {
   "cell_type": "code",
   "execution_count": 18,
   "metadata": {},
   "outputs": [
    {
     "data": {
      "text/plain": [
       "array([ -9.32552967,  -4.9449624 , -11.39665242,  -7.0242106 ,\n",
       "        -8.38562723])"
      ]
     },
     "execution_count": 18,
     "metadata": {},
     "output_type": "execute_result"
    }
   ],
   "source": [
    "scores"
   ]
  },
  {
   "cell_type": "code",
   "execution_count": 19,
   "metadata": {},
   "outputs": [
    {
     "data": {
      "text/plain": [
       "8.215396464543607"
      ]
     },
     "execution_count": 19,
     "metadata": {},
     "output_type": "execute_result"
    }
   ],
   "source": [
    "abs(scores.mean())"
   ]
  },
  {
   "cell_type": "code",
   "execution_count": 20,
   "metadata": {},
   "outputs": [],
   "source": [
    "model = Ridge(alpha=1)"
   ]
  },
  {
   "cell_type": "code",
   "execution_count": 21,
   "metadata": {},
   "outputs": [
    {
     "data": {
      "text/plain": [
       "Ridge(alpha=1)"
      ]
     },
     "execution_count": 21,
     "metadata": {},
     "output_type": "execute_result"
    }
   ],
   "source": [
    "model.fit(X_train,y_train)"
   ]
  },
  {
   "cell_type": "code",
   "execution_count": 22,
   "metadata": {},
   "outputs": [],
   "source": [
    "y_final_test_pred = model.predict(X_test)"
   ]
  },
  {
   "cell_type": "code",
   "execution_count": 23,
   "metadata": {},
   "outputs": [],
   "source": [
    "from sklearn.metrics import mean_squared_error"
   ]
  },
  {
   "cell_type": "code",
   "execution_count": 24,
   "metadata": {},
   "outputs": [
    {
     "data": {
      "text/plain": [
       "2.3190215794287514"
      ]
     },
     "execution_count": 24,
     "metadata": {},
     "output_type": "execute_result"
    }
   ],
   "source": [
    "mean_squared_error(y_test,y_final_test_pred)"
   ]
  },
  {
   "cell_type": "code",
   "execution_count": 25,
   "metadata": {},
   "outputs": [],
   "source": [
    "scores = cross_val_score(model,X_train,y_train,scoring='neg_mean_squared_error',cv=5)"
   ]
  },
  {
   "cell_type": "code",
   "execution_count": 26,
   "metadata": {},
   "outputs": [
    {
     "data": {
      "text/plain": [
       "3.344839296530695"
      ]
     },
     "execution_count": 26,
     "metadata": {},
     "output_type": "execute_result"
    }
   ],
   "source": [
    "abs(scores.mean())"
   ]
  },
  {
   "cell_type": "markdown",
   "metadata": {},
   "source": [
    "# Cross-Validate function"
   ]
  },
  {
   "cell_type": "code",
   "execution_count": 28,
   "metadata": {},
   "outputs": [],
   "source": [
    "from sklearn.model_selection import cross_validate"
   ]
  },
  {
   "cell_type": "code",
   "execution_count": 29,
   "metadata": {},
   "outputs": [],
   "source": [
    "model = Ridge(alpha=100)"
   ]
  },
  {
   "cell_type": "code",
   "execution_count": 30,
   "metadata": {},
   "outputs": [],
   "source": [
    "scores = cross_validate(model,X_train,y_train,scoring=['neg_mean_squared_error','neg_mean_absolute_error'],cv=10)"
   ]
  },
  {
   "cell_type": "code",
   "execution_count": 33,
   "metadata": {},
   "outputs": [],
   "source": [
    "scores = pd.DataFrame(scores)"
   ]
  },
  {
   "cell_type": "code",
   "execution_count": 34,
   "metadata": {},
   "outputs": [
    {
     "data": {
      "text/plain": [
       "fit_time                        0.002951\n",
       "score_time                      0.002215\n",
       "test_neg_mean_squared_error    -7.565121\n",
       "test_neg_mean_absolute_error   -2.083773\n",
       "dtype: float64"
      ]
     },
     "execution_count": 34,
     "metadata": {},
     "output_type": "execute_result"
    }
   ],
   "source": [
    "scores.mean()"
   ]
  },
  {
   "cell_type": "code",
   "execution_count": 35,
   "metadata": {},
   "outputs": [],
   "source": [
    "model = Ridge(alpha=1)"
   ]
  },
  {
   "cell_type": "code",
   "execution_count": 36,
   "metadata": {},
   "outputs": [],
   "source": [
    "scores = cross_validate(model,X_train,y_train,scoring=['neg_mean_squared_error','neg_mean_absolute_error'],cv=10)"
   ]
  },
  {
   "cell_type": "code",
   "execution_count": 37,
   "metadata": {},
   "outputs": [],
   "source": [
    "scores = pd.DataFrame(scores)"
   ]
  },
  {
   "cell_type": "code",
   "execution_count": 39,
   "metadata": {},
   "outputs": [
    {
     "data": {
      "text/plain": [
       "fit_time                        0.002500\n",
       "score_time                      0.001498\n",
       "test_neg_mean_squared_error    -3.323018\n",
       "test_neg_mean_absolute_error   -1.308467\n",
       "dtype: float64"
      ]
     },
     "execution_count": 39,
     "metadata": {},
     "output_type": "execute_result"
    }
   ],
   "source": [
    "scores.mean()"
   ]
  },
  {
   "cell_type": "code",
   "execution_count": 40,
   "metadata": {},
   "outputs": [
    {
     "data": {
      "text/plain": [
       "Ridge(alpha=1)"
      ]
     },
     "execution_count": 40,
     "metadata": {},
     "output_type": "execute_result"
    }
   ],
   "source": [
    "model.fit(X_train,y_train)"
   ]
  },
  {
   "cell_type": "code",
   "execution_count": 41,
   "metadata": {},
   "outputs": [],
   "source": [
    "y_final_pred = model.predict(X_test)"
   ]
  },
  {
   "cell_type": "code",
   "execution_count": 42,
   "metadata": {},
   "outputs": [
    {
     "data": {
      "text/plain": [
       "2.3190215794287514"
      ]
     },
     "execution_count": 42,
     "metadata": {},
     "output_type": "execute_result"
    }
   ],
   "source": [
    "mean_squared_error(y_test,y_final_pred)"
   ]
  },
  {
   "cell_type": "code",
   "execution_count": null,
   "metadata": {},
   "outputs": [],
   "source": []
  }
 ],
 "metadata": {
  "kernelspec": {
   "display_name": "Python 3",
   "language": "python",
   "name": "python3"
  },
  "language_info": {
   "codemirror_mode": {
    "name": "ipython",
    "version": 3
   },
   "file_extension": ".py",
   "mimetype": "text/x-python",
   "name": "python",
   "nbconvert_exporter": "python",
   "pygments_lexer": "ipython3",
   "version": "3.8.3"
  }
 },
 "nbformat": 4,
 "nbformat_minor": 4
}
